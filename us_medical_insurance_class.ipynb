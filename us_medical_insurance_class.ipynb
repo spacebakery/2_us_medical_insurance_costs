{
 "cells": [
  {
   "cell_type": "markdown",
   "metadata": {},
   "source": [
    "# U.S. Medical Insurance Costs"
   ]
  },
  {
   "cell_type": "code",
   "execution_count": 1,
   "outputs": [],
   "source": [
    "import csv"
   ],
   "metadata": {
    "collapsed": false,
    "ExecuteTime": {
     "end_time": "2023-12-11T21:43:37.506089Z",
     "start_time": "2023-12-11T21:43:36.419893Z"
    }
   }
  },
  {
   "cell_type": "code",
   "execution_count": 2,
   "outputs": [],
   "source": [
    "# list variables\n",
    "age = []\n",
    "sex = []\n",
    "bmi = []\n",
    "children = []\n",
    "smoker = []\n",
    "region = []\n",
    "charges = []"
   ],
   "metadata": {
    "collapsed": false,
    "ExecuteTime": {
     "end_time": "2023-12-11T21:43:37.509195Z",
     "start_time": "2023-12-11T21:43:36.436690Z"
    }
   }
  },
  {
   "cell_type": "code",
   "execution_count": 3,
   "outputs": [],
   "source": [
    "# load_data function\n",
    "def load_data(lst, csv_file, column_name):\n",
    "    with open(csv_file, newline='') as csv_info:\n",
    "        csv_dict = csv.DictReader(csv_info)\n",
    "        for row in csv_dict:\n",
    "            lst.append(row[column_name])\n",
    "        return lst\n"
   ],
   "metadata": {
    "collapsed": false,
    "ExecuteTime": {
     "end_time": "2023-12-11T21:43:37.535658Z",
     "start_time": "2023-12-11T21:43:36.465219Z"
    }
   }
  },
  {
   "cell_type": "code",
   "execution_count": 4,
   "outputs": [],
   "source": [
    "load_data(age, 'insurance.csv', 'age');"
   ],
   "metadata": {
    "collapsed": false,
    "ExecuteTime": {
     "end_time": "2023-12-11T21:43:37.535916Z",
     "start_time": "2023-12-11T21:43:36.482382Z"
    }
   }
  },
  {
   "cell_type": "code",
   "execution_count": 5,
   "outputs": [],
   "source": [
    "load_data(sex, 'insurance.csv', 'sex');"
   ],
   "metadata": {
    "collapsed": false,
    "ExecuteTime": {
     "end_time": "2023-12-11T21:43:37.536071Z",
     "start_time": "2023-12-11T21:43:36.534149Z"
    }
   }
  },
  {
   "cell_type": "code",
   "execution_count": 6,
   "outputs": [],
   "source": [
    "load_data(bmi, 'insurance.csv', 'bmi');"
   ],
   "metadata": {
    "collapsed": false,
    "ExecuteTime": {
     "end_time": "2023-12-11T21:43:37.536364Z",
     "start_time": "2023-12-11T21:43:36.568054Z"
    }
   }
  },
  {
   "cell_type": "code",
   "execution_count": 7,
   "outputs": [],
   "source": [
    "load_data(children, 'insurance.csv', 'children');"
   ],
   "metadata": {
    "collapsed": false,
    "ExecuteTime": {
     "end_time": "2023-12-11T21:43:37.536505Z",
     "start_time": "2023-12-11T21:43:36.633161Z"
    }
   }
  },
  {
   "cell_type": "code",
   "execution_count": 8,
   "outputs": [],
   "source": [
    "load_data(smoker, 'insurance.csv', 'smoker');"
   ],
   "metadata": {
    "collapsed": false,
    "ExecuteTime": {
     "end_time": "2023-12-11T21:43:37.536609Z",
     "start_time": "2023-12-11T21:43:36.659661Z"
    }
   }
  },
  {
   "cell_type": "code",
   "execution_count": 9,
   "outputs": [],
   "source": [
    "load_data(region, 'insurance.csv', 'region');"
   ],
   "metadata": {
    "collapsed": false,
    "ExecuteTime": {
     "end_time": "2023-12-11T21:43:37.536712Z",
     "start_time": "2023-12-11T21:43:36.680299Z"
    }
   }
  },
  {
   "cell_type": "code",
   "execution_count": 10,
   "outputs": [],
   "source": [
    "load_data(charges, 'insurance.csv', 'charges');"
   ],
   "metadata": {
    "collapsed": false,
    "ExecuteTime": {
     "end_time": "2023-12-11T21:43:37.536801Z",
     "start_time": "2023-12-11T21:43:36.702616Z"
    }
   }
  },
  {
   "cell_type": "code",
   "execution_count": 11,
   "outputs": [],
   "source": [
    "# Class\n",
    "class InsurerData:\n",
    "    def __init__(self, insurer_age, insurer_sex, insurer_bmi, insurer_children, insurer_smoker, insurer_region, insurer_charges):\n",
    "        self.insurer_age = insurer_age\n",
    "        self.insurer_sex = insurer_sex\n",
    "        self.insurer_bmi = insurer_bmi\n",
    "        self.insurer_children = insurer_children\n",
    "        self.insurer_smoker = insurer_smoker\n",
    "        self.insurer_region = insurer_region\n",
    "        self.insurer_charges = insurer_charges\n",
    "    \n",
    "    def avg_insurance_cost(self):\n",
    "        total_cost = 0\n",
    "        for cost in self.insurer_charges:\n",
    "            total_cost += float(cost)\n",
    "        total_cost /= len(self.insurer_charges)\n",
    "        return round(total_cost, 2)\n",
    "    \n",
    "    def avg_age(self):\n",
    "        avg_age = 0\n",
    "        for age in self.insurer_age:\n",
    "            avg_age += float(age)\n",
    "        avg_age /= len(self.insurer_age)\n",
    "        return round(avg_age)\n",
    "    \n",
    "    def largest_region(self):\n",
    "        region_dict = {}\n",
    "        for region in self.insurer_region:\n",
    "            if region in region_dict:\n",
    "                region_dict[region] += 1\n",
    "            else:\n",
    "                region_dict[region] = 1\n",
    "        # return largest region_dict\n",
    "        max_region = max(region_dict, key=region_dict.get)\n",
    "        max_count = region_dict[max_region]\n",
    "        return max_region, max_count\n",
    "    \n",
    "    def num_smokers(self):\n",
    "        total_smokers = 0\n",
    "        for smoker in self.insurer_smoker:\n",
    "            if smoker == 'yes':\n",
    "                total_smokers += 1\n",
    "        return total_smokers\n",
    "    \n",
    "    def smoker_cost(self):\n",
    "        cost_sum_smoker = 0\n",
    "        count_smoker = 0\n",
    "        cost_sum_non_smoker = 0\n",
    "        count_non_smoker = 0\n",
    "        for n in range(len(self.insurer_smoker)):\n",
    "            if self.insurer_smoker[n] == 'yes':\n",
    "                cost_sum_smoker += float(self.insurer_charges[n])\n",
    "                count_smoker += 1\n",
    "            else:\n",
    "                cost_sum_non_smoker += float(self.insurer_charges[n])\n",
    "                count_non_smoker += 1\n",
    "        smoker_cost = cost_sum_smoker / count_smoker\n",
    "        non_smoker_cost = cost_sum_non_smoker / count_non_smoker\n",
    "        return round(smoker_cost, 2), round(non_smoker_cost, 2)\n",
    "    \n",
    "    def have_kids_age(self):\n",
    "        counter = 0\n",
    "        sum_ages = 0\n",
    "        for n in range(len(self.insurer_children)):\n",
    "            if int(self.insurer_children[n]) >= 1:\n",
    "                counter += 1\n",
    "                sum_ages += int(self.insurer_age[n])\n",
    "        return round(sum_ages / counter)\n",
    "    \n",
    "    def sex_cost(self):\n",
    "        cost_female = 0\n",
    "        count_female = 0\n",
    "        cost_male = 0\n",
    "        count_male = 0\n",
    "        for n in range(len(self.insurer_sex)):\n",
    "            if self.insurer_sex[n] == 'female':\n",
    "                cost_female += float(self.insurer_charges[n])\n",
    "                count_female += 1\n",
    "            elif self.insurer_sex[n] == 'male':\n",
    "                cost_male += float(self.insurer_charges[n])\n",
    "                count_male += 1\n",
    "            else:\n",
    "                pass\n",
    "        female_cost = cost_female / count_female\n",
    "        male_cost = cost_male / count_male\n",
    "        return round(female_cost, 2), round(male_cost, 2)\n",
    "    \n",
    "    def group_by_age_cost(self):\n",
    "        age_cost = list(zip(self.insurer_age, self.insurer_charges))\n",
    "        cost_young, cost_adult, cost_elder = 0, 0, 0\n",
    "        count_young, count_adult, count_elder = 0, 0, 0\n",
    "        for patient in age_cost:\n",
    "            if int(patient[0]) < 21:\n",
    "                cost_young += float(patient[1])\n",
    "                count_young += 1\n",
    "            elif int(patient[0]) < 60:\n",
    "                cost_adult += float(patient[1])\n",
    "                count_adult += 1\n",
    "            elif int(patient[0]) >= 60:\n",
    "                cost_elder += float(patient[1])\n",
    "                count_elder += 1\n",
    "            else:\n",
    "                pass\n",
    "        cost_young = cost_young / count_young\n",
    "        cost_adult = cost_adult / count_adult\n",
    "        cost_elder = cost_elder / count_elder\n",
    "        return round(cost_young, 2), round(cost_adult, 2), round(cost_elder, 2)\n",
    "    "
   ],
   "metadata": {
    "collapsed": false,
    "ExecuteTime": {
     "end_time": "2023-12-11T21:43:37.536939Z",
     "start_time": "2023-12-11T21:43:36.749520Z"
    }
   }
  },
  {
   "cell_type": "code",
   "execution_count": 12,
   "outputs": [],
   "source": [
    "insurer_data = InsurerData(age, sex, bmi, children, smoker, region, charges)"
   ],
   "metadata": {
    "collapsed": false,
    "ExecuteTime": {
     "end_time": "2023-12-11T21:43:37.537028Z",
     "start_time": "2023-12-11T21:43:36.765600Z"
    }
   }
  },
  {
   "cell_type": "code",
   "execution_count": 13,
   "outputs": [
    {
     "data": {
      "text/plain": "13270.42"
     },
     "execution_count": 13,
     "metadata": {},
     "output_type": "execute_result"
    }
   ],
   "source": [
    "import numpy as np\n",
    "charges_f = []\n",
    "for charge in charges:\n",
    "    charges_f.append(float(charge))\n",
    "round(np.mean(charges_f), 2)"
   ],
   "metadata": {
    "collapsed": false,
    "ExecuteTime": {
     "end_time": "2023-12-11T21:43:37.537815Z",
     "start_time": "2023-12-11T21:43:36.807330Z"
    }
   }
  },
  {
   "cell_type": "code",
   "execution_count": 14,
   "outputs": [
    {
     "name": "stdout",
     "output_type": "stream",
     "text": [
      "The average insurance cost is 13270.42 for this record.\n"
     ]
    }
   ],
   "source": [
    "# average insurance cost\n",
    "avg_cost = insurer_data.avg_insurance_cost()\n",
    "print(f'The average insurance cost is {avg_cost} for this record.')"
   ],
   "metadata": {
    "collapsed": false,
    "ExecuteTime": {
     "end_time": "2023-12-11T21:43:37.538261Z",
     "start_time": "2023-12-11T21:43:37.201733Z"
    }
   }
  },
  {
   "cell_type": "code",
   "execution_count": 15,
   "outputs": [
    {
     "name": "stdout",
     "output_type": "stream",
     "text": [
      "The average age in the recorded insurance data is 39 y.o.\n"
     ]
    }
   ],
   "source": [
    "# average age in the dataset\n",
    "avg_age = insurer_data.avg_age()\n",
    "print(f'The average age in the recorded insurance data is {avg_age} y.o.')"
   ],
   "metadata": {
    "collapsed": false,
    "ExecuteTime": {
     "end_time": "2023-12-11T21:43:37.538641Z",
     "start_time": "2023-12-11T21:43:37.219633Z"
    }
   }
  },
  {
   "cell_type": "code",
   "execution_count": 16,
   "outputs": [
    {
     "name": "stdout",
     "output_type": "stream",
     "text": [
      "The largest group of patients according the region is 'southeast' with 364 individuals registered.\n"
     ]
    }
   ],
   "source": [
    "# largest region of insurers\n",
    "larg_region, larg_count = insurer_data.largest_region()\n",
    "print(f'The largest group of patients according the region is \\'{larg_region}\\' with {larg_count} individuals registered.')"
   ],
   "metadata": {
    "collapsed": false,
    "ExecuteTime": {
     "end_time": "2023-12-11T21:43:37.539138Z",
     "start_time": "2023-12-11T21:43:37.252204Z"
    }
   }
  },
  {
   "cell_type": "code",
   "execution_count": 17,
   "outputs": [
    {
     "name": "stdout",
     "output_type": "stream",
     "text": [
      "There are 274 smokers in the record.\n"
     ]
    }
   ],
   "source": [
    "# total count of smokers in dataset\n",
    "total_smokers = insurer_data.num_smokers()\n",
    "print(f'There are {total_smokers} smokers in the record.')"
   ],
   "metadata": {
    "collapsed": false,
    "ExecuteTime": {
     "end_time": "2023-12-11T21:43:37.539921Z",
     "start_time": "2023-12-11T21:43:37.268019Z"
    }
   }
  },
  {
   "cell_type": "code",
   "execution_count": 18,
   "outputs": [
    {
     "name": "stdout",
     "output_type": "stream",
     "text": [
      "The average insurance cost for smokers is $ 32050.23 dollars.\n",
      "The average insurance cost for non-smokers is $ 8434.27 dollars.\n",
      "The insurance cost for smokers is about 23615.96 dollars higher than non-smokers cost in average.\n"
     ]
    }
   ],
   "source": [
    "# smoker cost vs. non-smoker cost\n",
    "smoker_cost, non_smoker_cost = insurer_data.smoker_cost()\n",
    "print(f'The average insurance cost for smokers is $ {smoker_cost} dollars.')\n",
    "print(f'The average insurance cost for non-smokers is $ {non_smoker_cost} dollars.')\n",
    "# does smokers insurance charges higher than the non-smoker insurers?\n",
    "print(f'The insurance cost for smokers is about ' + str(smoker_cost - non_smoker_cost) + f' dollars higher than non-smokers cost in average.')"
   ],
   "metadata": {
    "collapsed": false,
    "ExecuteTime": {
     "end_time": "2023-12-11T21:43:37.567750Z",
     "start_time": "2023-12-11T21:43:37.283778Z"
    }
   }
  },
  {
   "cell_type": "code",
   "execution_count": 19,
   "outputs": [
    {
     "name": "stdout",
     "output_type": "stream",
     "text": [
      "The average age for insurers to have at least one child is 40 y.o.\n"
     ]
    }
   ],
   "source": [
    "# Figure out what the average age is for someone who has at least one child in this dataset.\n",
    "avg_have_kids_age = insurer_data.have_kids_age()\n",
    "print(f'The average age for insurers to have at least one child is {avg_have_kids_age} y.o.')"
   ],
   "metadata": {
    "collapsed": false,
    "ExecuteTime": {
     "end_time": "2023-12-11T21:43:37.568320Z",
     "start_time": "2023-12-11T21:43:37.314777Z"
    }
   }
  },
  {
   "cell_type": "code",
   "execution_count": 20,
   "outputs": [
    {
     "name": "stdout",
     "output_type": "stream",
     "text": [
      "The average insurance cost for female is $ 12569.58 dollars.\n",
      "The average insurance cost for male is $ 13956.75 dollars.\n",
      "The average female insurance cost 1387.17 dollars lower than male insurance.\n"
     ]
    }
   ],
   "source": [
    "# compare the sex insurers versus their insurance charges, see if there are differences between women and men\n",
    "female_cost, male_cost = insurer_data.sex_cost()\n",
    "print(f'The average insurance cost for female is $ {female_cost} dollars.')\n",
    "print(f'The average insurance cost for male is $ {male_cost} dollars.')\n",
    "print(f'The average female insurance cost ' + str(male_cost - female_cost) + f' dollars lower than male insurance.')"
   ],
   "metadata": {
    "collapsed": false,
    "ExecuteTime": {
     "end_time": "2023-12-11T21:43:37.568613Z",
     "start_time": "2023-12-11T21:43:37.330116Z"
    }
   }
  },
  {
   "cell_type": "code",
   "execution_count": 21,
   "outputs": [
    {
     "name": "stdout",
     "output_type": "stream",
     "text": [
      "The average insurance cost for teenagers is $ 8713.48 dollars.\n",
      "The average insurance cost for adults is $ 13125.82 dollars. 51% higher than teenagers cost.\n",
      "The average insurance cost for elders is $ 21248.02 dollars. 62% higher than adults cost.\n",
      "Teenagers insurance cost is about 41% of elder's cost. And Adults insurance cost is about 62% of elder's cost.\n"
     ]
    }
   ],
   "source": [
    "# compare insurers ages and analyze if there are differences with higher ages groups versus younger\n",
    "young_cost, adult_cost, elder_cost = insurer_data.group_by_age_cost()\n",
    "print(f'The average insurance cost for teenagers is $ {young_cost} dollars.')\n",
    "print(f'The average insurance cost for adults is $ {adult_cost} dollars. ' + str(\n",
    "    round(((adult_cost / young_cost) - 1) * 100)) + '% higher than teenagers cost.')\n",
    "print(f'The average insurance cost for elders is $ {elder_cost} dollars. ' + str(\n",
    "    round(((elder_cost / adult_cost) - 1) * 100)) + '% higher than adults cost.')\n",
    "print(f'Teenagers insurance cost is about ' + str(round((young_cost / elder_cost) * 100)) \\\n",
    "      + '% of elder\\'s cost. And Adults insurance cost is about ' \\\n",
    "      + str(round((adult_cost / elder_cost) * 100)) + '% of elder\\'s cost.')"
   ],
   "metadata": {
    "collapsed": false,
    "ExecuteTime": {
     "end_time": "2023-12-11T21:43:37.568825Z",
     "start_time": "2023-12-11T21:43:37.367713Z"
    }
   }
  },
  {
   "cell_type": "code",
   "execution_count": 21,
   "outputs": [],
   "source": [],
   "metadata": {
    "collapsed": false,
    "ExecuteTime": {
     "end_time": "2023-12-11T21:43:37.568943Z",
     "start_time": "2023-12-11T21:43:37.384508Z"
    }
   }
  }
 ],
 "metadata": {
  "kernelspec": {
   "display_name": "Python 3",
   "language": "python",
   "name": "python3"
  },
  "language_info": {
   "codemirror_mode": {
    "name": "ipython",
    "version": 3
   },
   "file_extension": ".py",
   "mimetype": "text/x-python",
   "name": "python",
   "nbconvert_exporter": "python",
   "pygments_lexer": "ipython3",
   "version": "3.7.6"
  }
 },
 "nbformat": 4,
 "nbformat_minor": 4
}
